{
 "cells": [
  {
   "cell_type": "code",
   "execution_count": 28,
   "metadata": {},
   "outputs": [],
   "source": [
    "import numpy as np\n",
    "import pandas as pd\n",
    "import matplotlib.pyplot as plt\n",
    "import os\n",
    "import pickle\n"
   ]
  },
  {
   "cell_type": "code",
   "execution_count": 29,
   "metadata": {},
   "outputs": [],
   "source": [
    "eval_path = './evaluation_data/'\n",
    "\n",
    "raw_eval_dict = dict()\n",
    "for filename in os.listdir(eval_path):\n",
    "    with open(eval_path + filename, 'rb') as f:\n",
    "        raw_eval_dict[filename] = pickle.load(f)"
   ]
  },
  {
   "cell_type": "code",
   "execution_count": 32,
   "metadata": {},
   "outputs": [],
   "source": [
    "def read_data_to_DataFrama(raw_dict):\n",
    "\n",
    "    return_keys = [key for key in raw_dict.keys() if '_returns' in key]\n",
    "    temp_dict = dict()\n",
    "    for key in return_keys:\n",
    "        target_return, _ = key.split('_')\n",
    "        target_return = int(target_return)\n",
    "        temp_dict[target_return] = raw_dict[key]\n",
    "    \n",
    "    return pd.DataFrame(temp_dict)\n",
    "\n",
    "eval_dict = {k: read_data_to_DataFrama(v) for k, v in raw_eval_dict.items()}"
   ]
  },
  {
   "cell_type": "code",
   "execution_count": 40,
   "metadata": {},
   "outputs": [
    {
     "data": {
      "text/plain": [
       "(100, 16)"
      ]
     },
     "execution_count": 40,
     "metadata": {},
     "output_type": "execute_result"
    }
   ],
   "source": [
    "target_rewards = eval_dict['iter5-gym-experiment-halfcheetah-expert-481832'].columns.to_numpy()\n",
    "eval_dict['iter5-gym-experiment-halfcheetah-expert-481832'].to_numpy()."
   ]
  }
 ],
 "metadata": {
  "interpreter": {
   "hash": "edf1248ce4e3c99c9d399bdf42a0872d380a744c04792fd925f76c0892383d91"
  },
  "kernelspec": {
   "display_name": "Python 3.8.5 ('decision-transformer-gym')",
   "language": "python",
   "name": "python3"
  },
  "language_info": {
   "codemirror_mode": {
    "name": "ipython",
    "version": 3
   },
   "file_extension": ".py",
   "mimetype": "text/x-python",
   "name": "python",
   "nbconvert_exporter": "python",
   "pygments_lexer": "ipython3",
   "version": "3.8.5"
  },
  "orig_nbformat": 4
 },
 "nbformat": 4,
 "nbformat_minor": 2
}
